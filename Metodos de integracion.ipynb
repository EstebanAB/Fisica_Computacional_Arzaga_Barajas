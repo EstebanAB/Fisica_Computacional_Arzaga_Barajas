{
 "cells": [
  {
   "cell_type": "markdown",
   "metadata": {},
   "source": [
    "# Tarea 5 para el Martes 29 de Agosto"
   ]
  },
  {
   "cell_type": "markdown",
   "metadata": {},
   "source": [
    "Hacer un notebook en su repositorio de Tareas que contenga una breve explicación de como funcionan los siguientes métodos de integración:\n",
    "\n",
    "Método de integración de Riemann, es decír, tomando la definición de integral de Riemann con diferencias finitas.\n",
    "\n",
    "Regla del trapecio.\n",
    "\n",
    "Regla de Simpson de orden 2, es decir, interpolando con polinomios de orden 2.\n",
    "\n",
    "Pueden consultar Wikipedia.\n",
    "\n",
    "Usen celdas de markdown, recuerden que pueden usar código $\\LaTeX$."
   ]
  },
  {
   "cell_type": "markdown",
   "metadata": {},
   "source": [
    "## Método de integración de Riemann\n",
    "\n",
    "Tenemos a una función $f$ en un intervalo $[a,b]$ donde $a$ y $b$ son los extremos de integracion. Esta operacion consiste en hallar el limite de la suma de los productos entre el valor de la función en un punto $x^{*}_{i}$ y el ancho $\\Delta x$ del subintervalo contenido al punto. Es decir:\n",
    "\n",
    "$$\\lim_{n\\to\\infty} \\sum\\limits_{i=0}^{n-1} f(x^{*}_{i})\\Delta x_i  $$\n",
    "\n",
    "Donde $ n $ es la cantidad de subintervalos.\n",
    "\n",
    "Esto comunmente se denota como:\n",
    "\n",
    "$$ \\int_{a}^{b} f(x) dx $$\n",
    "\n",
    "Desde una perspectiva geometrica, se intenta obtener el area bajo una función $ f(x) $ la cual se refina entre mas cantidad de subintervalos se tiene. Esta cantidad de subintervalos son la cantidad de rectangulos, cuya area es el producto de la función en un punto por el ancho de intervalo.\n",
    "\n",
    "(¿Cómo pongo imagenes?)"
   ]
  },
  {
   "cell_type": "markdown",
   "metadata": {},
   "source": [
    "## Regla del trapecio"
   ]
  },
  {
   "cell_type": "markdown",
   "metadata": {
    "collapsed": true
   },
   "source": [
    "Se aproxima la integral de Riemann de $ f(x) $ po una función de caracter lineal la cual pasa por los puntos $ (a,f(a)) $ y $ (b,f(b)) $. Visto desde una perspectiva geometrica, el area del trapecio bajo la grafica de la funcion lineal se aproxima a la integral de $ f(x) $. Es decir:\n",
    "\n",
    "$$ \\int_{a}^{b} f(x) dx \\approx (b-a) \\frac{f(a)+f(b)}{2} $$\n",
    "\n",
    "Como es una aproximación, resulta obvio que existe un error, el cual está dado por:\n",
    "\n",
    "$$ E_t(f) = -\\frac{1}{12}f^{\\prime \\prime}(\\xi)(b-a)^{3} $$\n",
    "\n",
    "Donde $ \\xi $ es un numero perteneciente al intervalo $ [a,b] $."
   ]
  },
  {
   "cell_type": "markdown",
   "metadata": {},
   "source": [
    "## Regla de Simpson (de orden 2)\n",
    "\n",
    "Teníamos que en la regla del trapecio se aproximaba cada subintervalo en $ [a,b] $ por un polinomio de primer grado para luego calcular la integral como la suma de areas de los trapecios formados en esos subintervalos. En la regla de Simpson ocurre lo mismo, sólo que ahora utilizando polinomios de segundo grado (Más en concreto, un polinomio interpolador de orden dos).\n",
    "\n",
    "La ecuación es la siguiente:\n",
    "\n",
    "$$ \\int_{a}^{b} f(x) dx \\approx \\frac{(b-a)}{6} [ f(a)+4f(\\frac{a+b}{2})+f(b) ] $$\n",
    "\n",
    "Al igual que el metodo del trapecio, este metodo tambien tiene un error:\n",
    "\n",
    "$$ E_t(f) = -\\frac{h^{5}}{12}f^{\\prime \\prime \\prime \\prime}(\\xi) $$\n",
    "\n",
    "En donde $h=(b-a)/2$ y $\\xi$ pertenece al intervalo $[a,b]$"
   ]
  },
  {
   "cell_type": "markdown",
   "metadata": {},
   "source": [
    "Referencias:\n",
    "\n",
    "Integral de Riemann, por WikiMatematica.org. (s/f). Recuperado el 28 de agosto de 2017, a partir de http://www.wikimatematica.org/index.php?title=Integral_de_Riemann\n",
    "\n",
    "Regla del trapecio. (2017, agosto 25). En Wikipedia, la enciclopedia libre. Recuperado a partir de https://es.wikipedia.org/w/index.php?title=Regla_del_trapecio&oldid=101398142\n",
    "\n",
    "Regla de Simpson. (2017, junio 28). En Wikipedia, la enciclopedia libre. Recuperado a partir de https://es.wikipedia.org/w/index.php?title=Regla_de_Simpson&oldid=100143046\n"
   ]
  }
 ],
 "metadata": {
  "kernelspec": {
   "display_name": "Julia 0.6.0",
   "language": "julia",
   "name": "julia-0.6"
  },
  "language_info": {
   "file_extension": ".jl",
   "mimetype": "application/julia",
   "name": "julia",
   "version": "0.6.0"
  }
 },
 "nbformat": 4,
 "nbformat_minor": 2
}
