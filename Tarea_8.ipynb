{
 "cells": [
  {
   "cell_type": "markdown",
   "metadata": {},
   "source": [
    "# Diferencias finitas"
   ]
  },
  {
   "cell_type": "markdown",
   "metadata": {},
   "source": [
    "__Ejercicio 0: Hacer notebook de la Tarea_8 y poner ahi todos los ejercicios $1$ y el $7$ para el Martes 12 de Septiembre.__"
   ]
  },
  {
   "cell_type": "markdown",
   "metadata": {},
   "source": [
    "__Ejercicio 1__. Escribe una función `derivadaNumerica` que\n",
    "reciba: una función $f\\colon \\mathbb{R}\\mapsto\\mathbb{R}$,\n",
    "un punto $x_0\\in\\mathbb{R}$ y un número $h\\in\\mathbb{R}$. Esta función deberá calcular una aproximación a la\n",
    "derivada utilizando la definición indicada arriba ignorando\n",
    "la parte del límite. Es decir, algo como: `derivada_numerica(f,x,h)`."
   ]
  },
  {
   "cell_type": "code",
   "execution_count": 1,
   "metadata": {
    "collapsed": true
   },
   "outputs": [],
   "source": [
    "#Definimos nuestra función\n",
    "\n",
    "function f(x);\n",
    "    x^2\n",
    "end;"
   ]
  },
  {
   "cell_type": "code",
   "execution_count": 2,
   "metadata": {
    "collapsed": true
   },
   "outputs": [],
   "source": [
    "function derivada_numerica(f,x,h)\n",
    "    f_prima = (f(x+h)-f(x))/h #Por definicion de derivada\n",
    "    return f_prima\n",
    "end;"
   ]
  },
  {
   "cell_type": "code",
   "execution_count": 3,
   "metadata": {
    "collapsed": false
   },
   "outputs": [
    {
     "data": {
      "text/plain": [
       "40.10000000000048"
      ]
     },
     "execution_count": 3,
     "metadata": {},
     "output_type": "execute_result"
    }
   ],
   "source": [
    "derivada_numerica(f,20,0.1) #llamamos la funcion con h=0.1"
   ]
  },
  {
   "cell_type": "markdown",
   "metadata": {},
   "source": [
    "__Ejercicio 7:__ Explotar la relación $\\delta_h=\\Delta_h-\\Delta_{-h}$, donde $\\delta_h:f(x)\\mapsto f(x+h)-f(x-h)$, para encontrar cual es la función $\\theta$ que relaciona a $\\delta_h$ con el operador derivada exacta, es decir:\n",
    "$$\\delta_h=\\theta\\left(h\\left. \\frac{d}{d\\xi}\\right|_{\\xi=x}\\right).$$\n",
    "\n",
    "Una vez que la encuentren, despejen $\\left. \\frac{d}{d\\xi}\\right|_{\\xi=x}$ "
   ]
  },
  {
   "cell_type": "markdown",
   "metadata": {},
   "source": [
    "Sabemos que $\\phi(x)=e^x-1$. Por lo tanto $\\Delta_h$ y $\\Delta_{-h}$ se ven de la siguiente manera:\n",
    "$$\\Delta_h=\\exp{\\left(h\\left.\\frac{d}{d\\xi}\\right|_{\\substack{ \\xi=x }}\\right)}-1$$\n",
    "\n",
    "$$\\Delta_{-h}=\\exp{\\left(-h\\left.\\frac{d}{d\\xi}\\right|_{\\substack{ \\xi=x }}\\right)}-1$$\n",
    "\n",
    "Sustituyendo en $\\delta_h$:\n",
    "$$\\delta_h=\\exp{\\left(h\\left.\\frac{d}{d\\xi}\\right|_{\\substack{ \\xi=x }}\\right)} -\\exp{\\left(-h\\left.\\frac{d}{d\\xi}\\right|_{\\substack{ \\xi=x }}\\right)}$$ \n",
    "\n",
    "Sabemos que:\n",
    "\n",
    "$$\\sinh{x} = \\frac{e^{x} - e^{-x}}{2}$$\n",
    "\n",
    "Por lo tanto:\n",
    "\n",
    "$$\\delta_h= 2\\sinh{\\left(h\\left.\\frac{d}{d\\xi}\\right|_{\\substack{ \\xi=x }}\\right)} $$\n",
    "\n",
    "Despejamos $\\left. \\frac{d}{d\\xi}\\right|_{\\xi=x}$ :\n",
    "\n",
    "$$ \\left. \\frac{d}{d\\xi}\\right|_{\\xi=x} = \\frac{1}{h}\\sinh{\\left(\\frac{\\delta_h}{2}\\right)}$$"
   ]
  },
  {
   "cell_type": "markdown",
   "metadata": {
    "collapsed": true
   },
   "source": [
    "__...y calculen la serie de Taylor de mánera similar a lo mostrado en las ecuaciones 3 y 4.__"
   ]
  },
  {
   "cell_type": "markdown",
   "metadata": {},
   "source": [
    "Tenemos que:\n",
    "\n",
    "$$ \\left. \\frac{df(\\xi)}{d\\xi}\\right|_{\\xi=x} = \\frac{df(x)}{dx} = \\frac{1}{h}\\sinh{\\left(\\frac{\\delta_h}{2}\\right)}f(x)$$\n",
    "\n",
    "Calculamos el poliniomio de Taylor para $g(x) = \\sinh{\\frac{\\delta_h}{2}}$ con $n=3$:\n",
    "\n",
    "$$ g(x) = g(0)+g'(0)x+\\frac{g''(0)}{2!}x^{2}+\\frac{g'''(0)}{3!}x^{3}  $$\n",
    "\n",
    "\n",
    "$$ g(x) = \\sinh{0}+\\cosh{0}\\left(\\frac{\\delta_h}{2}\\right)+\\frac{\\sinh{0}}{2!}\\left(\\frac{\\delta_h}{2}\\right)^{2}+\\frac{\\cosh{0}}{3!}\\left(\\frac{\\delta_h}{2}\\right)^{3}  $$\n",
    "\n",
    "Como $\\sinh{0} = 0$ y $\\cosh{0} = 1$\n",
    "\n",
    "$$ g(x) = \\frac{\\delta_h}{2}+\\frac{\\delta_h^{3}}{(3!)(2^{3})} $$\n",
    "\n",
    "$$ g(x) = \\frac{\\delta_h}{2}+\\frac{\\delta_h^{3}}{48} $$\n",
    "\n",
    "Por lo tanto, nuestra $f'(x)$ queda como:\n",
    "\n",
    "$$f'(x) = \\frac{1}{h}\\left(\\frac{\\delta_hf(x)}{2}+\\frac{\\delta_h^{3}f(x)}{48}\\right) +\\mathcal{O}\\left(h^{2}\\right)$$\n",
    "\n",
    "En donde $ \\delta_hf(x) = f(x+h)-f(x-h) $"
   ]
  }
 ],
 "metadata": {
  "kernelspec": {
   "display_name": "Julia 0.6.0",
   "language": "julia",
   "name": "julia-0.6"
  },
  "language_info": {
   "file_extension": ".jl",
   "mimetype": "application/julia",
   "name": "julia",
   "version": "0.6.0"
  }
 },
 "nbformat": 4,
 "nbformat_minor": 2
}
