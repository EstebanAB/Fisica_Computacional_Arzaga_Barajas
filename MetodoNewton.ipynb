{
 "cells": [
  {
   "cell_type": "code",
   "execution_count": 1,
   "metadata": {
    "collapsed": false
   },
   "outputs": [
    {
     "data": {
      "text/plain": [
       "raices2 (generic function with 1 method)"
      ]
     },
     "execution_count": 1,
     "metadata": {},
     "output_type": "execute_result"
    }
   ],
   "source": [
    "function raices2(x0,w0)\n",
    "    w1 = w0\n",
    "    w2 = 0.0\n",
    "    f(x) = (x)*tan(x)-sqrt(complex((x0-x^(2))))\n",
    "    df(x) = tan(x)+(x)*(sec(x))^2+(x)/(sqrt(complex(x0-x^2)))\n",
    "    error = 1\n",
    "    while error > 0.0000001\n",
    "        w2 = w1-(f(w1)/df(w1))\n",
    "        error = abs(w2-w1)\n",
    "        \n",
    "        w1 = w2\n",
    "    end\n",
    "    return w1\n",
    "end"
   ]
  },
  {
   "cell_type": "code",
   "execution_count": 4,
   "metadata": {
    "collapsed": false
   },
   "outputs": [
    {
     "data": {
      "text/plain": [
       "3.1616420951060653 + 0.0im"
      ]
     },
     "execution_count": 4,
     "metadata": {},
     "output_type": "execute_result"
    }
   ],
   "source": [
    "raices2(10,3.1616)"
   ]
  }
 ],
 "metadata": {
  "kernelspec": {
   "display_name": "Julia 0.6.0",
   "language": "julia",
   "name": "julia-0.6"
  },
  "language_info": {
   "file_extension": ".jl",
   "mimetype": "application/julia",
   "name": "julia",
   "version": "0.6.0"
  }
 },
 "nbformat": 4,
 "nbformat_minor": 2
}
