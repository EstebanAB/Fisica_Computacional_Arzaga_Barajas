{
 "cells": [
  {
   "cell_type": "code",
   "execution_count": 1,
   "metadata": {},
   "outputs": [
    {
     "data": {
      "text/plain": [
       "herramientas"
      ]
     },
     "execution_count": 1,
     "metadata": {},
     "output_type": "execute_result"
    }
   ],
   "source": [
    "#Esta es la prueba de la tarea 15 en donde se saca el paquete a partir de un archivo .jl \n",
    "#que se encuentra en la misma carpeta donde se realiza este Notebook. Note que realizo todas \n",
    "#las pruebas que hice en la tarea_15. \n",
    "\n",
    "include(\"herramientas.jl\")"
   ]
  },
  {
   "cell_type": "markdown",
   "metadata": {},
   "source": [
    "### Test para método de Newton:"
   ]
  },
  {
   "cell_type": "code",
   "execution_count": 2,
   "metadata": {},
   "outputs": [
    {
     "data": {
      "text/markdown": [
       "documentación del método de Newton\n"
      ],
      "text/plain": [
       "documentación del método de Newton\n"
      ]
     },
     "execution_count": 2,
     "metadata": {},
     "output_type": "execute_result"
    }
   ],
   "source": [
    "? herramientas.metodo_newton #Falta ser más creativos con la documentación, aún así esto comprueba que todo funciona"
   ]
  },
  {
   "cell_type": "code",
   "execution_count": 3,
   "metadata": {},
   "outputs": [],
   "source": [
    "function f(x);\n",
    "    x^3-x^2-x-1\n",
    "end;\n",
    "\n",
    "function df(x);\n",
    "    3x^2-x^2-1\n",
    "end;"
   ]
  },
  {
   "cell_type": "code",
   "execution_count": 4,
   "metadata": {},
   "outputs": [
    {
     "data": {
      "text/plain": [
       "1.8392867552141612"
      ]
     },
     "execution_count": 4,
     "metadata": {},
     "output_type": "execute_result"
    }
   ],
   "source": [
    "herramientas.metodo_newton(f,df,1)"
   ]
  },
  {
   "cell_type": "code",
   "execution_count": 5,
   "metadata": {},
   "outputs": [
    {
     "data": {
      "text/markdown": [
       "documentación del método de Newton tipo lista\n"
      ],
      "text/plain": [
       "documentación del método de Newton tipo lista\n"
      ]
     },
     "execution_count": 5,
     "metadata": {},
     "output_type": "execute_result"
    }
   ],
   "source": [
    "? herramientas.metodo_newton_lista"
   ]
  },
  {
   "cell_type": "code",
   "execution_count": 6,
   "metadata": {},
   "outputs": [
    {
     "data": {
      "text/plain": [
       "3-element Array{Float64,1}:\n",
       " 1.83929\n",
       " 1.83929\n",
       " 1.83929"
      ]
     },
     "execution_count": 6,
     "metadata": {},
     "output_type": "execute_result"
    }
   ],
   "source": [
    "herramientas.metodo_newton_lista(f,df,linspace(0,10,3))"
   ]
  },
  {
   "cell_type": "code",
   "execution_count": 7,
   "metadata": {},
   "outputs": [
    {
     "data": {
      "text/markdown": [
       "documentación de metodo de newton epsilon\n"
      ],
      "text/plain": [
       "documentación de metodo de newton epsilon\n"
      ]
     },
     "execution_count": 7,
     "metadata": {},
     "output_type": "execute_result"
    }
   ],
   "source": [
    "? herramientas.metodo_newton_epsilon"
   ]
  },
  {
   "cell_type": "code",
   "execution_count": 8,
   "metadata": {},
   "outputs": [
    {
     "data": {
      "text/plain": [
       "1-element Array{Any,1}:\n",
       " 1.83929"
      ]
     },
     "execution_count": 8,
     "metadata": {},
     "output_type": "execute_result"
    }
   ],
   "source": [
    "herramientas.metodo_newton_epsilon(f,df,linspace(0,10,3))"
   ]
  },
  {
   "cell_type": "markdown",
   "metadata": {},
   "source": [
    "### Test para métodos de integración:"
   ]
  },
  {
   "cell_type": "code",
   "execution_count": 9,
   "metadata": {},
   "outputs": [
    {
     "data": {
      "text/plain": [
       "1-element Array{Float64,1}:\n",
       " -1.58334"
      ]
     },
     "execution_count": 9,
     "metadata": {},
     "output_type": "execute_result"
    }
   ],
   "source": [
    "herramientas.integracion_rectangulo(f,0,1,100)"
   ]
  },
  {
   "cell_type": "code",
   "execution_count": 10,
   "metadata": {},
   "outputs": [
    {
     "data": {
      "text/plain": [
       "1-element Array{Float64,1}:\n",
       " -1.58332"
      ]
     },
     "execution_count": 10,
     "metadata": {},
     "output_type": "execute_result"
    }
   ],
   "source": [
    "herramientas.integracion_trapecio(f,0,1,100)"
   ]
  },
  {
   "cell_type": "code",
   "execution_count": 11,
   "metadata": {},
   "outputs": [
    {
     "data": {
      "text/plain": [
       "1-element Array{Float64,1}:\n",
       " -1.58333"
      ]
     },
     "execution_count": 11,
     "metadata": {},
     "output_type": "execute_result"
    }
   ],
   "source": [
    "herramientas.integracion_simpson(f,0,1,100)"
   ]
  },
  {
   "cell_type": "markdown",
   "metadata": {},
   "source": [
    "### Test para solución de EDOs:"
   ]
  },
  {
   "cell_type": "code",
   "execution_count": 12,
   "metadata": {},
   "outputs": [],
   "source": [
    "#No se me ocurrió otra cosa para evaluar los EDOs en varias dimensiones, asi que:\n",
    "#Oscilador armonico amortiguado\n",
    "f(x,t)=[x[2], -1.0*x[1]-x[2]]\n",
    "\n",
    "#Graficamos [0,10] con h=0.01\n",
    "list=0:0.01:10;"
   ]
  },
  {
   "cell_type": "code",
   "execution_count": 13,
   "metadata": {},
   "outputs": [
    {
     "data": {
      "text/markdown": [
       "documentación del método de Euler explícito\n"
      ],
      "text/plain": [
       "documentación del método de Euler explícito\n"
      ]
     },
     "execution_count": 13,
     "metadata": {},
     "output_type": "execute_result"
    }
   ],
   "source": [
    "? herramientas.euler"
   ]
  },
  {
   "cell_type": "code",
   "execution_count": 14,
   "metadata": {},
   "outputs": [
    {
     "data": {
      "text/plain": [
       "1001-element Array{Any,1}:\n",
       " [1,0]                    \n",
       " [1.0,-0.01]              \n",
       " [0.9999,-0.0199]         \n",
       " [0.999701,-0.0297]       \n",
       " [0.999404,-0.0394]       \n",
       " [0.99901,-0.049]         \n",
       " [0.99852,-0.0585001]     \n",
       " [0.997935,-0.0679003]    \n",
       " [0.997256,-0.0772007]    \n",
       " [0.996484,-0.0864012]    \n",
       " [0.99562,-0.0955021]     \n",
       " [0.994665,-0.104503]     \n",
       " [0.99362,-0.113405]      \n",
       " ⋮                        \n",
       " [-0.00192349,-0.00614518]\n",
       " [-0.00198494,-0.00606449]\n",
       " [-0.00204559,-0.005984]  \n",
       " [-0.00210543,-0.0059037] \n",
       " [-0.00216446,-0.00582361]\n",
       " [-0.0022227,-0.00574373] \n",
       " [-0.00228014,-0.00566407]\n",
       " [-0.00233678,-0.00558463]\n",
       " [-0.00239262,-0.00550541]\n",
       " [-0.00244768,-0.00542643]\n",
       " [-0.00250194,-0.00534769]\n",
       " [-0.00255542,-0.00526919]"
      ]
     },
     "execution_count": 14,
     "metadata": {},
     "output_type": "execute_result"
    }
   ],
   "source": [
    "herramientas.euler(f,list,[1,0])"
   ]
  },
  {
   "cell_type": "code",
   "execution_count": 15,
   "metadata": {},
   "outputs": [
    {
     "data": {
      "text/markdown": [
       "documentación del método de Euler p.m.\n"
      ],
      "text/plain": [
       "documentación del método de Euler p.m.\n"
      ]
     },
     "execution_count": 15,
     "metadata": {},
     "output_type": "execute_result"
    }
   ],
   "source": [
    "? herramientas.euler_pm"
   ]
  },
  {
   "cell_type": "code",
   "execution_count": 16,
   "metadata": {},
   "outputs": [
    {
     "data": {
      "text/plain": [
       "1001-element Array{Any,1}:\n",
       " [1,0]                    \n",
       " [0.99995,-0.00995]       \n",
       " [0.999801,-0.0198]       \n",
       " [0.999554,-0.02955]      \n",
       " [0.99921,-0.0392001]     \n",
       " [0.99877,-0.0487502]     \n",
       " [0.998235,-0.0582005]    \n",
       " [0.997606,-0.0675509]    \n",
       " [0.996884,-0.0768016]    \n",
       " [0.99607,-0.0859526]     \n",
       " [0.995165,-0.0950039]    \n",
       " [0.99417,-0.103956]      \n",
       " [0.993086,-0.112808]     \n",
       " ⋮                        \n",
       " [-0.00153131,-0.00622745]\n",
       " [-0.0015932,-0.00614994] \n",
       " [-0.00165431,-0.00607259]\n",
       " [-0.00171465,-0.0059954] \n",
       " [-0.00177422,-0.00591838]\n",
       " [-0.00183302,-0.00584155]\n",
       " [-0.00189105,-0.00576489]\n",
       " [-0.00194831,-0.00568843]\n",
       " [-0.00200482,-0.00561216]\n",
       " [-0.00206056,-0.00553609]\n",
       " [-0.00211554,-0.00546023]\n",
       " [-0.00216976,-0.00538457]"
      ]
     },
     "execution_count": 16,
     "metadata": {},
     "output_type": "execute_result"
    }
   ],
   "source": [
    "herramientas.euler_pm(f,list,[1,0])"
   ]
  },
  {
   "cell_type": "code",
   "execution_count": 17,
   "metadata": {},
   "outputs": [
    {
     "data": {
      "text/markdown": [
       "documentación del método de Runge-Kutta\n"
      ],
      "text/plain": [
       "documentación del método de Runge-Kutta\n"
      ]
     },
     "execution_count": 17,
     "metadata": {},
     "output_type": "execute_result"
    }
   ],
   "source": [
    "? herramientas.runge_kutta"
   ]
  },
  {
   "cell_type": "code",
   "execution_count": 18,
   "metadata": {},
   "outputs": [
    {
     "data": {
      "text/plain": [
       "1001-element Array{Any,1}:\n",
       " [1,0]                    \n",
       " [0.99995,-0.00995]       \n",
       " [0.999801,-0.0198]       \n",
       " [0.999554,-0.02955]      \n",
       " [0.999211,-0.0392001]    \n",
       " [0.998771,-0.0487503]    \n",
       " [0.998236,-0.0582005]    \n",
       " [0.997607,-0.067551]     \n",
       " [0.996885,-0.0768017]    \n",
       " [0.996071,-0.0859527]    \n",
       " [0.995167,-0.0950041]    \n",
       " [0.994172,-0.103956]     \n",
       " [0.993088,-0.112808]     \n",
       " ⋮                        \n",
       " [-0.00153155,-0.00622848]\n",
       " [-0.00159345,-0.00615096]\n",
       " [-0.00165457,-0.0060736] \n",
       " [-0.00171492,-0.0059964] \n",
       " [-0.0017745,-0.00591937] \n",
       " [-0.00183331,-0.00584252]\n",
       " [-0.00189135,-0.00576586]\n",
       " [-0.00194863,-0.00568938]\n",
       " [-0.00200514,-0.0056131] \n",
       " [-0.00206089,-0.00553702]\n",
       " [-0.00211588,-0.00546114]\n",
       " [-0.00217012,-0.00538548]"
      ]
     },
     "execution_count": 18,
     "metadata": {},
     "output_type": "execute_result"
    }
   ],
   "source": [
    "herramientas.runge_kutta(f,list,[1,0])"
   ]
  }
 ],
 "metadata": {
  "kernelspec": {
   "display_name": "Julia 0.5.2",
   "language": "julia",
   "name": "julia-0.5"
  },
  "language_info": {
   "file_extension": ".jl",
   "mimetype": "application/julia",
   "name": "julia",
   "version": "0.5.2"
  }
 },
 "nbformat": 4,
 "nbformat_minor": 2
}
