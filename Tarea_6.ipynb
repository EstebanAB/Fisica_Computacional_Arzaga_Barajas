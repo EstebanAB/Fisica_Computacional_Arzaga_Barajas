{
 "cells": [
  {
   "cell_type": "markdown",
   "metadata": {
    "collapsed": true
   },
   "source": [
    "## Integración númerica"
   ]
  },
  {
   "cell_type": "markdown",
   "metadata": {},
   "source": [
    "__Ejercicio 1__: Implementar el método de integración del rectángulo. Deberán construir una _rutina_ que reciba una función y el tamaño de la diferencia finita, y devuelva el valor aproximado de la integral. Para hacer esto deberán dividir el intervalo de integración en segmentos pequeños y aplicar la formula de arriba."
   ]
  },
  {
   "cell_type": "code",
   "execution_count": 1,
   "metadata": {
    "collapsed": true
   },
   "outputs": [],
   "source": [
    "#De manera similar a la tarea anterior. Hacemos esto para poder meter a f en nuestras otras funciones\n",
    "function f(x);\n",
    "    x^2\n",
    "end;"
   ]
  },
  {
   "cell_type": "code",
   "execution_count": 2,
   "metadata": {
    "collapsed": false
   },
   "outputs": [
    {
     "data": {
      "text/plain": [
       "integracion_rectangulo (generic function with 1 method)"
      ]
     },
     "execution_count": 2,
     "metadata": {},
     "output_type": "execute_result"
    }
   ],
   "source": [
    "function integracion_rectangulo(f,a,b,numparticiones)\n",
    "    anchorec = (b-a)/numparticiones                     #El ancho de cada rectangulito\n",
    "    s = []                                              #Una lista vacía donde pondremos el area de cada rectangulito\n",
    "    suma = 0.0                                          #Los igualamos a 0 pues los utilizaremos despues\n",
    "    area = 0.0                                          \n",
    "    ainit = a                                           #Lo usaremos dentro del for y no queremos problemas c. actualizar\n",
    "    for i in 1:numparticiones                           #ciclo for, donde se obtendra el area de los 1000 rectangulos\n",
    "        b = (anchorec)*(i) +ainit                       #Esta es una suma izquierda.\n",
    "        a = ainit+(anchorec)*(i-1)              \n",
    "        area = (b-a)*(f((b+a)/2))                       #por definicion I. riemann\n",
    "        push!(s,area)                                   #un push, para meter el area del rectangulo i en la lista s\n",
    "    end\n",
    "    suma = sum(s,1:numparticiones)                      #sumamos todos los elementos de la lista s\n",
    "    return suma\n",
    "end"
   ]
  },
  {
   "cell_type": "code",
   "execution_count": 3,
   "metadata": {
    "collapsed": false
   },
   "outputs": [
    {
     "data": {
      "text/plain": [
       "1-element Array{Float64,1}:\n",
       " 50.6667"
      ]
     },
     "execution_count": 3,
     "metadata": {},
     "output_type": "execute_result"
    }
   ],
   "source": [
    "integracion_rectangulo(f,-3,5,10000)"
   ]
  },
  {
   "cell_type": "markdown",
   "metadata": {},
   "source": [
    "__Ejercicio 2:__ Implementar método del trapecio de la misma forma que el ejercicio anterior."
   ]
  },
  {
   "cell_type": "code",
   "execution_count": 4,
   "metadata": {
    "collapsed": false
   },
   "outputs": [
    {
     "data": {
      "text/plain": [
       "integracion_trapecio (generic function with 1 method)"
      ]
     },
     "execution_count": 4,
     "metadata": {},
     "output_type": "execute_result"
    }
   ],
   "source": [
    "function integracion_trapecio(f,a,b,numparticiones)\n",
    "    anchorec = (b-a)/numparticiones                     #practicamente lo mismo que el metodo del rectangulo\n",
    "    s = []\n",
    "    suma = 0.0                    \n",
    "    area = 0.0                                          \n",
    "    ainit = a                       \n",
    "    for i in 1:numparticiones                         \n",
    "        b = (anchorec)*(i) +ainit                      \n",
    "        a = ainit+(anchorec)*(i-1)              \n",
    "        area = (b-a)*((f(a)+f(b))/2)                      #p.d. Metodo Trapecio\n",
    "        push!(s,area)\n",
    "    end\n",
    "    suma = sum(s,1:numparticiones)\n",
    "    return suma\n",
    "end"
   ]
  },
  {
   "cell_type": "code",
   "execution_count": 5,
   "metadata": {
    "collapsed": false
   },
   "outputs": [
    {
     "data": {
      "text/plain": [
       "1-element Array{Float64,1}:\n",
       " 50.6667"
      ]
     },
     "execution_count": 5,
     "metadata": {},
     "output_type": "execute_result"
    }
   ],
   "source": [
    "integracion_trapecio(f,-3,5,10000)"
   ]
  }
 ],
 "metadata": {
  "kernelspec": {
   "display_name": "Julia 0.6.0",
   "language": "julia",
   "name": "julia-0.6"
  },
  "language_info": {
   "file_extension": ".jl",
   "mimetype": "application/julia",
   "name": "julia",
   "version": "0.6.0"
  }
 },
 "nbformat": 4,
 "nbformat_minor": 2
}
