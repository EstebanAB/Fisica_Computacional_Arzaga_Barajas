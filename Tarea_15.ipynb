{
 "cells": [
  {
   "cell_type": "markdown",
   "metadata": {},
   "source": [
    "__Ejercicio 1:__ Crear la libreria herramientas dentro de su carpeta de tareas, en su repositorio. Dentro deberán poner los métodos de Newton que construyeron, los métodos de integración, Euler independiente de dimensión (implícito y explícito)y Runge-Kutta independiente de dimensión. Recuerden que las rutinas deben funcionar solo con sus argumentos, no debe haber variables globales, todo lo que necesite la función para trabajar debe ser un argumento o una variable definida internamente.\n",
    "* Las rutinas tienen que llevar su documentación.\n",
    "* Crearán el notebook de la __tarea 15 (para el Martes 17)__ y en el llamarán a su libreria con el comando `import`.\n",
    "* Deberán demostrar que sus rutinas funcionan bien, no se necesitan tests extensos, basta con que muestren que si _corren_ las rutinas."
   ]
  },
  {
   "cell_type": "code",
   "execution_count": 1,
   "metadata": {},
   "outputs": [
    {
     "data": {
      "text/plain": [
       "herramientas"
      ]
     },
     "execution_count": 1,
     "metadata": {},
     "output_type": "execute_result"
    }
   ],
   "source": [
    "__precompile__() # Este comando es para que julia precompile el paquete\n",
    "\n",
    "module herramientas\n",
    "\n",
    "#Programas método Newton [Tarea 4]:\n",
    "\n",
    "export metodo_newton\n",
    "\"\"\"documentación del método de Newton\"\"\"\n",
    "function metodo_newton(f,df,x0)\n",
    "    x=x0\n",
    "    for i in 1:20\n",
    "       x=x-f(x)/df(x) \n",
    "    end\n",
    "    return x\n",
    "end\n",
    "\n",
    "export metodo_newton_numerico\n",
    "\"\"\"documentación del método de Newton\"\"\"\n",
    "function metodo_newton_numerico(f,x0) #Definimos como al principio\n",
    "    x = x0\n",
    "    h = 0.1\n",
    "    for i in 1:100\n",
    "        x = x-(f(x))/((f(x+h)-f(x))/(h));     #A partir de aquí, uno se da la idea de que existe un cierto error (Tomar esto como hipotesis)\n",
    "    end\n",
    "    return x\n",
    "end;\n",
    "\n",
    "export metodo_newton_lista\n",
    "\"\"\"documentación del método de Newton tipo lista\"\"\"\n",
    "function metodo_newton_lista(f,df,inits)\n",
    "    list=zeros(length(inits))  #Si tenemos n particiones se hace una lista con n elementos\n",
    "    x = 0.0\n",
    "    for i in 1:length(inits)   #Aplicamos metodo de newton para cada elemento de nuestro linspace\n",
    "        x = inits[i]\n",
    "        for n in 1:200         #Ciclo for, con 200 iteraciones (Este es el epsilon para el ejercicio siguiente)\n",
    "            x = x-(f(x)/df(x))        \n",
    "        end\n",
    "        list[i] = x            #Una lista con iteraciones finales\n",
    "    end\n",
    "    return list                #Return hasta que ya haya obtenido las n raices\n",
    "end;\n",
    "\n",
    "export metodo_newton_epsilon\n",
    "\"\"\"documentación de metodo de newton epsilon\"\"\"\n",
    "function metodo_newton_epsilon(f,df,inits)\n",
    "    t = []                                  #Hacemos t un vector vacío\n",
    "    epsilon = 0.0000001                     #Nuestra epsilon\n",
    "    list = metodo_newton_lista(f,df,inits)  #Por comodidad, llamamos a la funcion de la lista como lista\n",
    "    push!(t,list[1])                        #El primer push, para que pueda empezar el ciclo for de i:\n",
    "    for i in 1:length(t)                    #Por cada elemento de t, hacer esto. Notese que con el push se pueden agregar nuevos elementos\n",
    "        for n in 1:length(list)             #Ciclo for anidado, ahora sí todos los elementos de la lista de raices\n",
    "            if abs(t[i]-list[n]) > epsilon  #Comparamos todos los elementos de la lista por solo 1 de t\n",
    "                push!(t,list[n])            #Si el abs de eso es mayor a epsilon, nos indica que es una raiz diferente.\n",
    "            end                             #Con el push se agrega un elemento nuevo a t y se repite el primer ciclo for y despues el segundo, de tal manera que empezamos con 1 elemento en t, se compara ese solo elemento con toda la lista: se encuentra una raiz nueva, se agrega a t teniendo 2 elementos y cada uno de esos elementos puede compararse con toda la lista hasta obtener raices diferentes y asi consecutivamente.\n",
    "        end\n",
    "        return t                           #Que nos de la lista de raices diferentes                          \n",
    "    end\n",
    "end\n",
    "\n",
    "export metodo_newton_varias_condiciones_iniciales\n",
    "\n",
    "export integracion_rectangulo\n",
    "\"\"\"documentación de integración por método del rectángulo\"\"\"\n",
    "function integracion_rectangulo(f,a,b,numparticiones)        #Copy-paste de las funciones hechas en tarea 6\n",
    "    anchorec = (b-a)/numparticiones                     \n",
    "    s = []                                             \n",
    "    suma = 0.0                                          \n",
    "    area = 0.0                                          \n",
    "    ainit = a                                          \n",
    "    for i in 1:numparticiones                           \n",
    "        b = (anchorec)*(i) +ainit                       \n",
    "        a = ainit+(anchorec)*(i-1)              \n",
    "        area = (b-a)*(f((b+a)/2))                       \n",
    "        push!(s,area)                                   \n",
    "    end\n",
    "    suma = sum(s,1:numparticiones)                      \n",
    "    return suma\n",
    "end;\n",
    "\n",
    "export integracion_trapecio\n",
    "\"\"\"documentación de integración por método de trapecio\"\"\"\n",
    "function integracion_trapecio(f,a,b,numparticiones)\n",
    "    anchorec = (b-a)/numparticiones                     \n",
    "    s = []\n",
    "    suma = 0.0                    \n",
    "    area = 0.0                                          \n",
    "    ainit = a                       \n",
    "    for i in 1:numparticiones                         \n",
    "        b = (anchorec)*(i) +ainit                      \n",
    "        a = ainit+(anchorec)*(i-1)              \n",
    "        area = (b-a)*((f(a)+f(b))/2)                      \n",
    "        push!(s,area)\n",
    "    end\n",
    "    suma = sum(s,1:numparticiones)\n",
    "    return suma\n",
    "end;\n",
    "\n",
    "export integracion_simpson\n",
    "\"\"\"documentación de integración por método de Simpson\"\"\"\n",
    "function integracion_simpson(f,a,b,numparticiones)\n",
    "    anchorec = (b-a)/numparticiones                     #practicamente lo mismo que el metodo del rectangulo\n",
    "    s = []\n",
    "    suma = 0.0                    \n",
    "    area = 0.0                                          \n",
    "    ainit = a                       \n",
    "    for i in 1:numparticiones                         \n",
    "        b = (anchorec)*(i) +ainit                      \n",
    "        a = ainit+(anchorec)*(i-1)              \n",
    "        area = ((b-a)/6)*((f(a)+4f((a+b)/2)+f(b)))      #p.d. regla de simpson\n",
    "        push!(s,area)\n",
    "    end\n",
    "    suma = sum(s,1:numparticiones)\n",
    "    return suma\n",
    "end;\n",
    "\n",
    "export euler\n",
    "\"\"\"documentación del método de Euler explícito\"\"\"\n",
    "function euler(f,list,x0)\n",
    "     x = x0\n",
    "     h = list[2]-list[1]\n",
    "     listx=[]\n",
    "     push!(listx,x)\n",
    "     for i in 2:length(list)\n",
    "        t = i*h\n",
    "        x = x + f(x,t)*h\n",
    "        push!(listx,x) \n",
    "     end\n",
    "     return listx\n",
    "    end;\n",
    "\n",
    "export euler_implicito\n",
    "\"\"\"documentación del método de Euler implicito\"\"\"\n",
    "function euler_implicito(f,list,x0)\n",
    "     x = x0\n",
    "     h = list[2]-list[1]\n",
    "     listx=[]\n",
    "     push!(listx,x)\n",
    "     for i in 2:length(list)\n",
    "        t = i*h\n",
    "        t2 = i*h+h\n",
    "        t_final = h*length(list)\n",
    "        g(u) = u-x-f(x,t)*h\n",
    "        x = metodo_newton_numerico(g,x)\n",
    "        push!(listx,x) \n",
    "     end\n",
    "     return listx\n",
    "    end;\n",
    "\n",
    "export euler_pm\n",
    "\"\"\"documentación del método de Euler p.m.\"\"\"\n",
    "function euler_pm(f,list,x0)\n",
    "     x = x0\n",
    "     h = list[2]-list[1]\n",
    "     listx=[]\n",
    "     push!(listx,x)\n",
    "     for i in 2:length(list)\n",
    "        t = i*h\n",
    "        t2 = i*h+h/2\n",
    "        x = x + +h*f(x+f(x,t)*h/2,t2)\n",
    "        push!(listx,x) \n",
    "     end\n",
    "     return listx\n",
    "    end;\n",
    "\n",
    "export runge_kutta\n",
    "\"\"\"documentación del método de Runge-Kutta\"\"\"\n",
    "function runge_kutta(f,list,x0)\n",
    "     x = x0\n",
    "     h = list[2]-list[1]\n",
    "     listx=[]\n",
    "     push!(listx,x)\n",
    "     for i in 2:length(list)\n",
    "        t = i*h\n",
    "        t2 = i*h+h/2\n",
    "        #Se actualizan las \"kutas\":\n",
    "        k1 = f(x,t)\n",
    "        k2 = f(x+(h/2)*k1,t2)\n",
    "        k3 = f(x+(h/2)*k2,t2)\n",
    "        k4 = f(x+h*k3,t)\n",
    "        x = x+(h/6)*(k1+2*k2+2*k3+k4) #Por definicion Runge_kutta orden 4\n",
    "        push!(listx,x) \n",
    "     end\n",
    "     return listx\n",
    "end;\n",
    "\n",
    "\n",
    "end"
   ]
  },
  {
   "cell_type": "code",
   "execution_count": 2,
   "metadata": {},
   "outputs": [],
   "source": [
    "import herramientas"
   ]
  },
  {
   "cell_type": "markdown",
   "metadata": {},
   "source": [
    "### Test para método de Newton:"
   ]
  },
  {
   "cell_type": "code",
   "execution_count": 3,
   "metadata": {},
   "outputs": [],
   "source": [
    "function f(x);\n",
    "    x^3-x^2-x-1\n",
    "end;\n",
    "\n",
    "function df(x);\n",
    "    3x^2-x^2-1\n",
    "end;"
   ]
  },
  {
   "cell_type": "code",
   "execution_count": 4,
   "metadata": {},
   "outputs": [
    {
     "data": {
      "text/plain": [
       "1.8392867552141612"
      ]
     },
     "execution_count": 4,
     "metadata": {},
     "output_type": "execute_result"
    }
   ],
   "source": [
    "herramientas.metodo_newton(f,df,1)"
   ]
  },
  {
   "cell_type": "code",
   "execution_count": 5,
   "metadata": {},
   "outputs": [
    {
     "data": {
      "text/plain": [
       "3-element Array{Float64,1}:\n",
       " 1.83929\n",
       " 1.83929\n",
       " 1.83929"
      ]
     },
     "execution_count": 5,
     "metadata": {},
     "output_type": "execute_result"
    }
   ],
   "source": [
    "herramientas.metodo_newton_lista(f,df,linspace(0,10,3))"
   ]
  },
  {
   "cell_type": "code",
   "execution_count": 6,
   "metadata": {},
   "outputs": [
    {
     "data": {
      "text/plain": [
       "1-element Array{Any,1}:\n",
       " 1.83929"
      ]
     },
     "execution_count": 6,
     "metadata": {},
     "output_type": "execute_result"
    }
   ],
   "source": [
    "herramientas.metodo_newton_epsilon(f,df,linspace(0,10,3))"
   ]
  },
  {
   "cell_type": "markdown",
   "metadata": {},
   "source": [
    "### Test para métodos de integración:"
   ]
  },
  {
   "cell_type": "code",
   "execution_count": 7,
   "metadata": {},
   "outputs": [
    {
     "data": {
      "text/plain": [
       "1-element Array{Float64,1}:\n",
       " -1.58334"
      ]
     },
     "execution_count": 7,
     "metadata": {},
     "output_type": "execute_result"
    }
   ],
   "source": [
    "herramientas.integracion_rectangulo(f,0,1,100)"
   ]
  },
  {
   "cell_type": "code",
   "execution_count": 8,
   "metadata": {},
   "outputs": [
    {
     "data": {
      "text/plain": [
       "1-element Array{Float64,1}:\n",
       " -1.58332"
      ]
     },
     "execution_count": 8,
     "metadata": {},
     "output_type": "execute_result"
    }
   ],
   "source": [
    "herramientas.integracion_trapecio(f,0,1,100)"
   ]
  },
  {
   "cell_type": "code",
   "execution_count": 9,
   "metadata": {},
   "outputs": [
    {
     "data": {
      "text/plain": [
       "1-element Array{Float64,1}:\n",
       " -1.58333"
      ]
     },
     "execution_count": 9,
     "metadata": {},
     "output_type": "execute_result"
    }
   ],
   "source": [
    "herramientas.integracion_simpson(f,0,1,100)"
   ]
  },
  {
   "cell_type": "markdown",
   "metadata": {},
   "source": [
    "### Test para solución de EDOs:"
   ]
  },
  {
   "cell_type": "code",
   "execution_count": 10,
   "metadata": {},
   "outputs": [],
   "source": [
    "#No se me ocurrió otra cosa para evaluar los EDOs en varias dimensiones, asi que:\n",
    "#Oscilador armonico amortiguado\n",
    "f(x,t)=[x[2], -1.0*x[1]-x[2]]\n",
    "\n",
    "#Graficamos [0,10] con h=0.01\n",
    "list=0:0.01:10;"
   ]
  },
  {
   "cell_type": "code",
   "execution_count": 11,
   "metadata": {},
   "outputs": [
    {
     "data": {
      "text/plain": [
       "1001-element Array{Any,1}:\n",
       " [1,0]                    \n",
       " [1.0,-0.01]              \n",
       " [0.9999,-0.0199]         \n",
       " [0.999701,-0.0297]       \n",
       " [0.999404,-0.0394]       \n",
       " [0.99901,-0.049]         \n",
       " [0.99852,-0.0585001]     \n",
       " [0.997935,-0.0679003]    \n",
       " [0.997256,-0.0772007]    \n",
       " [0.996484,-0.0864012]    \n",
       " [0.99562,-0.0955021]     \n",
       " [0.994665,-0.104503]     \n",
       " [0.99362,-0.113405]      \n",
       " ⋮                        \n",
       " [-0.00192349,-0.00614518]\n",
       " [-0.00198494,-0.00606449]\n",
       " [-0.00204559,-0.005984]  \n",
       " [-0.00210543,-0.0059037] \n",
       " [-0.00216446,-0.00582361]\n",
       " [-0.0022227,-0.00574373] \n",
       " [-0.00228014,-0.00566407]\n",
       " [-0.00233678,-0.00558463]\n",
       " [-0.00239262,-0.00550541]\n",
       " [-0.00244768,-0.00542643]\n",
       " [-0.00250194,-0.00534769]\n",
       " [-0.00255542,-0.00526919]"
      ]
     },
     "execution_count": 11,
     "metadata": {},
     "output_type": "execute_result"
    }
   ],
   "source": [
    "herramientas.euler(f,list,[1,0])"
   ]
  },
  {
   "cell_type": "code",
   "execution_count": 12,
   "metadata": {},
   "outputs": [
    {
     "data": {
      "text/plain": [
       "1001-element Array{Any,1}:\n",
       " [1,0]                    \n",
       " [0.99995,-0.00995]       \n",
       " [0.999801,-0.0198]       \n",
       " [0.999554,-0.02955]      \n",
       " [0.99921,-0.0392001]     \n",
       " [0.99877,-0.0487502]     \n",
       " [0.998235,-0.0582005]    \n",
       " [0.997606,-0.0675509]    \n",
       " [0.996884,-0.0768016]    \n",
       " [0.99607,-0.0859526]     \n",
       " [0.995165,-0.0950039]    \n",
       " [0.99417,-0.103956]      \n",
       " [0.993086,-0.112808]     \n",
       " ⋮                        \n",
       " [-0.00153131,-0.00622745]\n",
       " [-0.0015932,-0.00614994] \n",
       " [-0.00165431,-0.00607259]\n",
       " [-0.00171465,-0.0059954] \n",
       " [-0.00177422,-0.00591838]\n",
       " [-0.00183302,-0.00584155]\n",
       " [-0.00189105,-0.00576489]\n",
       " [-0.00194831,-0.00568843]\n",
       " [-0.00200482,-0.00561216]\n",
       " [-0.00206056,-0.00553609]\n",
       " [-0.00211554,-0.00546023]\n",
       " [-0.00216976,-0.00538457]"
      ]
     },
     "execution_count": 12,
     "metadata": {},
     "output_type": "execute_result"
    }
   ],
   "source": [
    "herramientas.euler_pm(f,list,[1,0])"
   ]
  },
  {
   "cell_type": "code",
   "execution_count": 13,
   "metadata": {},
   "outputs": [
    {
     "ename": "LoadError",
     "evalue": "DimensionMismatch(\"dimensions must match\")",
     "output_type": "error",
     "traceback": [
      "DimensionMismatch(\"dimensions must match\")",
      "",
      " in promote_shape(::Tuple{Base.OneTo{Int64},Base.OneTo{Int64}}, ::Tuple{Base.OneTo{Int64}}) at ./operators.jl:411",
      " in promote_shape(::Tuple{Base.OneTo{Int64}}, ::Tuple{Base.OneTo{Int64},Base.OneTo{Int64}}) at ./operators.jl:402",
      " in promote_shape(::Array{Int64,1}, ::Array{Float64,2}) at ./operators.jl:397",
      " in _elementwise(::Base.#-, ::Type{Float64}, ::Array{Int64,1}, ::Array{Float64,2}) at ./arraymath.jl:71",
      " in -(::Array{Int64,1}, ::Array{Float64,2}) at ./arraymath.jl:63",
      " in metodo_newton_numerico(::herramientas.#g#1{#f,Float64}, ::Array{Int64,1}) at ./In[1]:23",
      " in euler_implicito(::#f, ::FloatRange{Float64}, ::Array{Int64,1}) at ./In[1]:143",
      " in include_string(::String, ::String) at ./loading.jl:441"
     ]
    }
   ],
   "source": [
    "herramientas.euler_implicito(f,list,[1,0])  #Llevo dos horas intentandólo para n-dimensiones pero no me salió debido al Método de Newton que no acepta más de una dimensión. Sin embargo, sirve a la perfección para 1D.\n",
    "#En otras palabras: en mi caso es imposible, pues estoy usando derivada numérica ya que se entendía que esto era para 1D en la tarea_12.\n"
   ]
  },
  {
   "cell_type": "code",
   "execution_count": 14,
   "metadata": {},
   "outputs": [
    {
     "data": {
      "text/plain": [
       "1001-element Array{Any,1}:\n",
       " [1,0]                    \n",
       " [0.99995,-0.00995]       \n",
       " [0.999801,-0.0198]       \n",
       " [0.999554,-0.02955]      \n",
       " [0.999211,-0.0392001]    \n",
       " [0.998771,-0.0487503]    \n",
       " [0.998236,-0.0582005]    \n",
       " [0.997607,-0.067551]     \n",
       " [0.996885,-0.0768017]    \n",
       " [0.996071,-0.0859527]    \n",
       " [0.995167,-0.0950041]    \n",
       " [0.994172,-0.103956]     \n",
       " [0.993088,-0.112808]     \n",
       " ⋮                        \n",
       " [-0.00153155,-0.00622848]\n",
       " [-0.00159345,-0.00615096]\n",
       " [-0.00165457,-0.0060736] \n",
       " [-0.00171492,-0.0059964] \n",
       " [-0.0017745,-0.00591937] \n",
       " [-0.00183331,-0.00584252]\n",
       " [-0.00189135,-0.00576586]\n",
       " [-0.00194863,-0.00568938]\n",
       " [-0.00200514,-0.0056131] \n",
       " [-0.00206089,-0.00553702]\n",
       " [-0.00211588,-0.00546114]\n",
       " [-0.00217012,-0.00538548]"
      ]
     },
     "execution_count": 14,
     "metadata": {},
     "output_type": "execute_result"
    }
   ],
   "source": [
    "herramientas.runge_kutta(f,list,[1,0])"
   ]
  }
 ],
 "metadata": {
  "kernelspec": {
   "display_name": "Julia 0.5.2",
   "language": "julia",
   "name": "julia-0.5"
  },
  "language_info": {
   "file_extension": ".jl",
   "mimetype": "application/julia",
   "name": "julia",
   "version": "0.5.2"
  }
 },
 "nbformat": 4,
 "nbformat_minor": 2
}
