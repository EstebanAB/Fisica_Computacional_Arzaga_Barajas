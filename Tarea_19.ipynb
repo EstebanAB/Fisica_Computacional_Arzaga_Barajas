{
 "cells": [
  {
   "cell_type": "markdown",
   "metadata": {},
   "source": [
    "# Ecuaciones diferenciales parciales"
   ]
  },
  {
   "cell_type": "markdown",
   "metadata": {},
   "source": [
    "__Ejercicio1__: Escriba la forma del operador laplaciano utilizando diferencias finitas simétricas. Es decir, discretice: $\\nabla^2=\\frac{\\partial^2 f}{\\partial x^2}+\\frac{\\partial^2 f}{\\partial y^2}+\\frac{\\partial^2 f}{\\partial z^2}$"
   ]
  },
  {
   "cell_type": "markdown",
   "metadata": {},
   "source": [
    "Sabemos que:\n",
    "$$f''(x) = \\frac{f(x+h)-2f(x)+f(x-h)}{h^2} $$\n",
    "\n",
    "Aplicando en $\\frac{\\partial^2 f}{\\partial x^2}$,$\\frac{\\partial^2 f}{\\partial y^2}$ y $\\frac{\\partial^2 f}{\\partial z^2}$ y conociendo que $f$ es de caracter tridimensional, el operador laplaciano se reescribe de esta forma:\n",
    "\n",
    "$$\\nabla^2= \\frac{f(x+h,y,z)-2f(x,y,z)+f(x-h,y,z)}{h^2}+\\frac{f(x,y+h,z)-2f(x,y,z)+f(x,y-h,z)}{h^2}+\\frac{f(x,y,z+h)-2f(x,y,z)+f(x,y,z-h)}{h^2}$$\n",
    "\n",
    "Simplificando:\n",
    "\n",
    "$$\\nabla^2= \\frac{f(x+h,y,z)-2f(x,y,z)+f(x-h,y,z)+f(x,y+h,z)-2f(x,y,z)+f(x,y-h,z)+f(x,y,z+h)-2f(x,y,z)+f(x,y,z-h)}{h^2}$$\n",
    "\n",
    "$$\\nabla^2= \\frac{f(x+h,y,z)+f(x-h,y,z)+f(x,y+h,z)+f(x,y-h,z)+f(x,y,z+h)+f(x,y,z-h)-6f(x,y,z)}{h^2}$$\n"
   ]
  },
  {
   "cell_type": "markdown",
   "metadata": {},
   "source": [
    "__Ejercicio 2 (condiciones a la frontera de Dirichlet)__. Discretice la ecuación \n",
    "$$ \\frac{d^2f}{dx^2}, $$\n",
    "en el intervalo $[0,1]$, y aplicando el operador laplaciano discretizado obtenga el sistema de ecuaciones algebraicas lineales correspondientes al problema de _Dirichlet_:\n",
    "$f(0) = a$ y $f(1) = b$ dividiendo el intervalo $[0,1]$ en $5$ puntos separados por $h$.\n",
    "\n",
    "* Escriba el sistema lineal de ecuaciones que surge, usando $\\LaTeX$ en el _notebook_ de la tarea que sigue."
   ]
  },
  {
   "cell_type": "markdown",
   "metadata": {},
   "source": [
    "Como se divide el segmento entre 5 puntos separados por h, se obtendrán 4 funciones partiendo de $f(0) = a$ hasta $f(1) = b$. Obtenemos las ecuaciones a partir de:\n",
    "\n",
    "$$\\nabla^2f = \\frac{f(x+h)-2f(x)+f(x-h)}{h^2} $$\n",
    "\n",
    "* Para $x=h$\n",
    "\n",
    "$$\\nabla^2f_1 = \\frac{f(h+h)-2f(h)+f(h-h)}{h^2} = 0 $$\n",
    "\n",
    "Por lo que:\n",
    "\n",
    "$$ f(2h)-2f(h)+f(0) = 0 $$\n",
    "\n",
    "* De manera similar para $x=2h$ y $x=3h$ respectivamente:\n",
    "\n",
    "$$ f(3h)-2f(2h)+f(h) = 0 $$\n",
    "\n",
    "$$ f(4h)-2f(3h)+f(2h) = 0 $$\n",
    "\n",
    "\n",
    "Podemos hacer $f(0)\\rightarrow f_0=a$, $f(h)\\rightarrow f_1$, $f(2h)\\rightarrow f_1$, ... , $f(4h)\\rightarrow f_4 = b $. El sistema de ecuaciones nos queda como:\n",
    "\n",
    "$$ f_2-2f_1+a = 0 $$\n",
    "\n",
    "$$ f_3-2f_2+f_1 = 0 $$\n",
    "\n",
    "$$ b-2f_3+f_2 = 0 $$\n",
    "\n",
    "Lo cual concuerda, pues el sistema de ecuaciones tiene como dimensión el numero de incógnitas."
   ]
  },
  {
   "cell_type": "markdown",
   "metadata": {},
   "source": [
    "__Ejercicio 3 (condiciones a la frontera de Neumann)__. Hacer lo mismo para condiciones de _Neumann_, es decir, fijando en los extremos el valor de la primera derivada de la función. Para esto utilice la derivada _hacia adeltante_ en las orillas, es decir, si $f'(0)=a$ y $f'(1)=b$, entonces $(f_1-f_0)/h=a$, etc. No olvide que debe resultar un sistema de ecuación cuya dimensión sea el número de incognitas.\n",
    "\n",
    "* Escriba el sistema lineal de ecuaciones que surge, usando $\\LaTeX$ en el _notebook_ de la tarea que sigue."
   ]
  },
  {
   "cell_type": "markdown",
   "metadata": {},
   "source": [
    "Partimos desde lo obtenido en el ejercicio 2, haciendo $f(0)\\rightarrow f_0$ y $f(4h)\\rightarrow f_4$\n",
    "\n",
    "$$ f_2-2f_1+f_0 = 0 $$\n",
    "\n",
    "$$ f_3-2f_2+f_1 = 0 $$\n",
    "\n",
    "$$ f_4-2f_3+f_2 = 0 $$\n",
    "\n",
    "Dividimos entre $h$ para poder observar las derivadas:\n",
    "\n",
    "$$ \\frac{f_2-2f_1+f_0}{h} = 0 $$\n",
    "\n",
    "$$ \\frac{f_3-2f_2+f_1}{h}= 0 $$\n",
    "\n",
    "$$ \\frac{f_4-2f_3+f_2}{h} = 0 $$\n",
    "\n",
    "Entonces:\n",
    "\n",
    "$$ \\frac{f_2-f_1}{h}-\\frac{f_1-f_0}{h} = 0 $$\n",
    "\n",
    "$$ \\frac{f_3-f_2}{h}-\\frac{f_2-f_1}{h}= 0 $$\n",
    "\n",
    "$$ \\frac{f_4-f_3}{h}-\\frac{f_3-f_2}{h} = 0 $$\n",
    "\n",
    "Como conocemos los valores de: $\\frac{f_1-f_0}{h}=f'(0)=a$ , $\\frac{f_4-f_3}{h}=f'(1)=b$ podemos sustituirlos, y despúes multiplicamos las ecuaciones por $h$ para que el número de incógnitas concuerde con la dimensión del sistema, lo cual resulta válido pues se indica que se conoce el valor de sólo las derivadas de los extremos de las orillas. Por lo que tenemos:\n",
    "\n",
    "$$ f_2-f_1-ah = 0 $$\n",
    "\n",
    "$$ f_3-2f_2+f_1= 0 $$\n",
    "\n",
    "$$ bh-f_3+f_2 = 0 $$"
   ]
  },
  {
   "cell_type": "markdown",
   "metadata": {},
   "source": [
    "__Ejercicio 4 (indexación)__. `Julia` es más eficiente\n",
    "si se utiliza un único índice para acceder a los elementos\n",
    "de una matriz, además que puede simplificar algunos problemas. Escribe una función $\\phi$ que traduzca un par de\n",
    "índices $i,j$ a un único índice $k$, es decir:\n",
    "$$\\phi: (i,j) \\mapsto k.$$\n",
    "También encuentren $\\phi^{-1}$. Note que $\\phi$ deberá depender de las dimensiones del arreglo, por lo menos de una de ellas."
   ]
  },
  {
   "cell_type": "code",
   "execution_count": 1,
   "metadata": {},
   "outputs": [],
   "source": [
    "function indice_unico(i,j,numero_columnas) #Resulta mas sencillo hacer la funcion \"por pasos\"\n",
    "    return (i-1)*numero_columnas + j\n",
    "    end;"
   ]
  },
  {
   "cell_type": "code",
   "execution_count": 2,
   "metadata": {},
   "outputs": [
    {
     "name": "stdout",
     "output_type": "stream",
     "text": [
      "i = 1 j = 1 van al indice unico 1\n",
      "i = 1 j = 2 van al indice unico 2\n",
      "i = 2 j = 1 van al indice unico 3\n",
      "i = 2 j = 2 van al indice unico 4\n"
     ]
    }
   ],
   "source": [
    "matriz = [1 2; 3 4]\n",
    "a = size(matriz,1)\n",
    "b = size(matriz,2)\n",
    "\n",
    "for i in 1:a\n",
    "    for j in 1:b\n",
    "    println(\"i = \",i ,\" j = \", j, \" van al indice unico \",indice_unico(i,j,b))    \n",
    "        end;\n",
    "    end;"
   ]
  },
  {
   "cell_type": "code",
   "execution_count": 3,
   "metadata": {},
   "outputs": [],
   "source": [
    "function inverso_indice_unico(numero_columnas,indice)\n",
    "    if(indice%numero_columnas!=0)\n",
    "        j = indice%numero_columnas\n",
    "    else\n",
    "        j = numero_columnas\n",
    "    end\n",
    "    i = (indice-j+numero_columnas)/numero_columnas\n",
    "    return[i,j]\n",
    "    end;"
   ]
  },
  {
   "cell_type": "code",
   "execution_count": 4,
   "metadata": {},
   "outputs": [
    {
     "name": "stdout",
     "output_type": "stream",
     "text": [
      "el indice unico 1 va a i = 1.0 j = 1.0\n",
      "el indice unico 2 va a i = 1.0 j = 2.0\n",
      "el indice unico 3 va a i = 2.0 j = 1.0\n",
      "el indice unico 4 va a i = 2.0 j = 2.0\n"
     ]
    }
   ],
   "source": [
    "indices = [1 2 3 4]\n",
    "\n",
    "for indice in indices\n",
    "    inverse = inverso_indice_unico(b,indice)\n",
    "    println(\"el indice unico \", indice , \" va a i = \",inverse[1], \" j = \", inverse[2]) \n",
    "end"
   ]
  }
 ],
 "metadata": {
  "kernelspec": {
   "display_name": "Julia 0.5.2",
   "language": "julia",
   "name": "julia-0.5"
  },
  "language_info": {
   "file_extension": ".jl",
   "mimetype": "application/julia",
   "name": "julia",
   "version": "0.5.2"
  }
 },
 "nbformat": 4,
 "nbformat_minor": 2
}
